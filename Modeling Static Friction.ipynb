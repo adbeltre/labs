{
 "cells": [
  {
   "cell_type": "code",
   "execution_count": 2,
   "metadata": {
    "collapsed": true
   },
   "outputs": [],
   "source": [
    "%matplotlib inline"
   ]
  },
  {
   "cell_type": "markdown",
   "metadata": {},
   "source": [
    "# Modeling Static Friction Lame Change"
   ]
  },
  {
   "cell_type": "markdown",
   "metadata": {},
   "source": [
    "### Introduction:"
   ]
  },
  {
   "cell_type": "markdown",
   "metadata": {},
   "source": [
    "From everyday experience, we know that it takes a certain amount of force to overcome friction and get an object sliding. The goal of this investigation is to model the dependence of this maximum static frictional force on the mass of the object in question."
   ]
  },
  {
   "cell_type": "markdown",
   "metadata": {},
   "source": [
    "### Procedure:"
   ]
  },
  {
   "cell_type": "markdown",
   "metadata": {},
   "source": [
    "We attached a spring scale to the side of a hollow box on a level surface. Adding additional masses, we measured the amount of force it took to get the box to begin to slide. "
   ]
  },
  {
   "cell_type": "markdown",
   "metadata": {},
   "source": [
    "<figure>\n",
    "    <img src=\"img/Friction Apparatus.png\" width=400px/>\n",
    "    <figcaption style=\"text-align:center; font-size: 12px\">Fig. 1 - Sketch of the apparatus</figcaption>\n",
    "</figure>"
   ]
  },
  {
   "cell_type": "markdown",
   "metadata": {},
   "source": [
    "<figure>\n",
    "    <img src=\"img/Apparatus Photo.jpg\" width=400px/>\n",
    "    <figcaption style=\"text-align:center; font-size: 12px;\">Fig. 2 - Photo of the apparatus</figcaption>\n",
    "</figure>"
   ]
  },
  {
   "cell_type": "markdown",
   "metadata": {
    "collapsed": true
   },
   "source": [
    "### Data and Analysis:"
   ]
  },
  {
   "cell_type": "markdown",
   "metadata": {},
   "source": [
    "\n",
    "| $m_{added}$   | $F_{max}$     |$ F_{incline}$   \n",
    "|------|-----|-----|\n",
    "| 600  |3.6  | 2.13|\n",
    "| 800  | 4   | 2.84|\n",
    "| 1000 | 5.2 | 3.56|\n",
    "| 1200 | 6   | 4.26|\n",
    "| 1400 | 7.2 | 4.97|\n",
    "| 1600 | 8   | 4.88|"
   ]
  },
  {
   "cell_type": "code",
   "execution_count": 37,
   "metadata": {
    "collapsed": false
   },
   "outputs": [
    {
     "name": "stdout",
     "output_type": "stream",
     "text": [
      "\n"
     ]
    },
    {
     "data": {
      "image/png": "[encoded data removed]",
      "text/plain": [
       "<matplotlib.figure.Figure at 0x629a0f0>"
      ]
     },
     "metadata": {},
     "output_type": "display_data"
    }
   ],
   "source": [
    "import matplotlib.pyplot as plt\n",
    "import numpy as np\n",
    "from scipy.optimize import curve_fit\n",
    "\n",
    "m = [.6, .8, 1, 1.2, 1.4, 1.6]\n",
    "ff = [2.13, 2.84, 3.56, 4.26, 4.97, 4.88]\n",
    "\n",
    "ma = [.6, .8, 1, 1.2, 1.4, 1.6]\n",
    "fa = [3.6, 4, 5.2, 6, 7.2, 8]\n",
    "\n",
    "fb = [5.233, 6.977, 8.722, 10.466, 12.211, 13.955]\n",
    "mb = [.6, .8, 1, 1.2, 1.4, 1.6]\n",
    "\n",
    "\n",
    "mm = np.linspace(0, 2000, 2000)\n",
    "nn = np.linspace(0, 2000, 2000)\n",
    "ww = np.linspace(0, 2000, 2000)\n",
    "\n",
    "\n",
    "def lineara(x, a, b):\n",
    "    return a*x + b\n",
    "def linearb(x, c, d):\n",
    "    return c*x + d\n",
    "def linearc(x, e, f):\n",
    "    return e*x + f\n",
    "\n",
    "\n",
    "a, b = curve_fit(lineara, ff, m)[0]\n",
    "c, d = curve_fit(linearb, fa, ma)[0]\n",
    "e, f = curve_fit(linearc, fb, mb)[0]\n",
    "#print(a, b)\n",
    "#print(c, d)\n",
    "#print(e, f)\n",
    "print()\n",
    "\n",
    "plt.xlim(0,15)\n",
    "plt.ylim(0,5)\n",
    "plt.title(\"Modeling Static Friction\")\n",
    "plt.ylabel(\"Mass Added (g)            (Yellow)Normal Force\")\n",
    "plt.xlabel(\"Max Frictional Force           (Yellow)Mass Added (g)\")\n",
    "plt.plot(ff, m, '.')\n",
    "plt.plot(fa, ma, '.')\n",
    "plt.plot(fb, mb, '.')\n",
    "plt.plot(mm, lineara(mm, a, b), '-')\n",
    "plt.plot(nn, linearb(nn, c, d), '-')\n",
    "plt.plot(ww, linearc(ww, e, f), '-')\n",
    "plt.show()"
   ]
  },
  {
   "cell_type": "code",
   "execution_count": 27,
   "metadata": {
    "collapsed": false
   },
   "outputs": [
    {
     "name": "stdout",
     "output_type": "stream",
     "text": [
      "[  0.00000000e+00   1.00050025e+00   2.00100050e+00 ...,   1.99799900e+03\n",
      "   1.99899950e+03   2.00000000e+03]\n"
     ]
    }
   ],
   "source": [
    "print()"
   ]
  },
  {
   "cell_type": "markdown",
   "metadata": {},
   "source": [
    "###### What you did?"
   ]
  },
  {
   "cell_type": "markdown",
   "metadata": {},
   "source": [
    "Using the spring scales we measured the friction, in Newtons, of different masses on both a flat and inclined surface."
   ]
  },
  {
   "cell_type": "markdown",
   "metadata": {},
   "source": [
    "#### How you did it?"
   ]
  },
  {
   "cell_type": "markdown",
   "metadata": {},
   "source": [
    "At first we simply put different amount of masses into a wooden box, and measured the different frictional forces. We then stacked a couple of books together, to create an angle of 27 degrees. We then measured the frictional forces of the incline."
   ]
  },
  {
   "cell_type": "markdown",
   "metadata": {},
   "source": [
    "#### Why you did it?"
   ]
  },
  {
   "cell_type": "markdown",
   "metadata": {
    "collapsed": true
   },
   "source": [
    "To see the affect gravity has on frictional force."
   ]
  },
  {
   "cell_type": "markdown",
   "metadata": {},
   "source": [
    "#### What you learned?"
   ]
  },
  {
   "cell_type": "markdown",
   "metadata": {
    "collapsed": true
   },
   "source": [
    "Friction goes down the steeper the slope of the surface/ramp being measured."
   ]
  },
  {
   "cell_type": "markdown",
   "metadata": {},
   "source": [
    "## Conclusion"
   ]
  },
  {
   "cell_type": "markdown",
   "metadata": {},
   "source": [
    "Based on the data we collected we are shown that as the mass increases the max frictional force also increases. Using the first scale the results seemed to be more precise. Once we switched scales the data results seemed to jump drastically. One way we could improve this is by using one scale to measure all masses and getting better accuracy."
   ]
  },
  {
   "cell_type": "markdown",
   "metadata": {},
   "source": [
    "### Equation"
   ]
  },
  {
   "cell_type": "markdown",
   "metadata": {},
   "source": []
  },
  {
   "cell_type": "code",
   "execution_count": null,
   "metadata": {
    "collapsed": true
   },
   "outputs": [],
   "source": []
  }
 ],
 "metadata": {
  "anaconda-cloud": {},
  "kernelspec": {
   "display_name": "Python [default]",
   "language": "python",
   "name": "python3"
  },
  "language_info": {
   "codemirror_mode": {
    "name": "ipython",
    "version": 3
   },
   "file_extension": ".py",
   "mimetype": "text/x-python",
   "name": "python",
   "nbconvert_exporter": "python",
   "pygments_lexer": "ipython3",
   "version": "3.5.2"
  }
 },
 "nbformat": 4,
 "nbformat_minor": 1
}
